{
 "cells": [
  {
   "cell_type": "code",
   "execution_count": 56,
   "metadata": {
    "collapsed": false
   },
   "outputs": [],
   "source": [
    "from os import listdir, system, path\n",
    "\n",
    "\"\"\"Python WPS execute\"\"\"\n",
    "from owslib.wps import WebProcessingService, monitorExecution, printInputOutput\n",
    "#wps_url = \"http://birdhouse-lsce.extra.cea.fr:8093/wps\"\n",
    "wps_url = \"http://localhost:8093/wps\"\n",
    "wps = WebProcessingService(url=wps_url, verbose=False)"
   ]
  },
  {
   "cell_type": "code",
   "execution_count": 57,
   "metadata": {
    "collapsed": false
   },
   "outputs": [
    {
     "name": "stdout",
     "output_type": "stream",
     "text": [
      "Flyingpigeon\n",
      "subset_continents : \t Returns only the selected polygon for each input dataset\n",
      "subset_countries : \t Returns only the selected polygon for each input dataset\n",
      "subset_regionseurope : \t Returns only the selected polygon for each input dataset\n",
      "subset_points : \t Extract Timeseries for specified coordinates from gridded datasets\n",
      "indices_single : \t This process calculates climate indices based on one single input variable.\n",
      "weatherregimes_reanalyse : \t Weather Regimes based on pressure patterns, fetching selected Realayses Datasets\n",
      "weatherregimes_model : \t Weather Regimes based on pressure patterns, fetching selected Realayses Datasets\n",
      "weatherregimes_projection : \t Weather Regimes detection based on trained reference statistics\n",
      "analogs : \t Search for days with analog pressure pattern\n",
      "analogs_viewer : \t Visualisation of text output of analogue process\n",
      "segetalflora : \t Species biodiversity of segetal flora. Imput files: variable:tas , domain: EUR-11 or EUR-44\n",
      "sdm_gbifsearch : \t Species distribution model for tree species based on GBIF presens/absence data and climate indices\n",
      "sdm_csv : \t Species distribution model for tree species based on GBIF presens/absence data and climate indices\n",
      "plot_timeseries : \t Plots of the filesmeans over time. Spagetti and uncertainty plot\n",
      "fetch : \t This process downloads resources (limited to 50GB)             to the local file system of the birdhouse compute provider\n"
     ]
    }
   ],
   "source": [
    "print wps.identification.title\n",
    "\n",
    "for process in wps.processes:\n",
    "    print '%s : \\t %s' % (process.identifier, process.abstract)"
   ]
  },
  {
   "cell_type": "code",
   "execution_count": 58,
   "metadata": {
    "collapsed": false
   },
   "outputs": [],
   "source": [
    "p = wps.describeprocess(identifier='weatherregimes_reanalyse')\n",
    "\n",
    "# to recieve some informations uncomment the follwing lines\n",
    "\n",
    "#for input in p.dataInputs:\n",
    "#  printInputOutput(input)\n",
    "#  print '\\n'"
   ]
  },
  {
   "cell_type": "code",
   "execution_count": 59,
   "metadata": {
    "collapsed": false
   },
   "outputs": [],
   "source": [
    "training = wps.execute(\n",
    "    identifier=\"weatherregimes_reanalyse\", \n",
    "    inputs=[ ('season', 'DJF')], #('BBox','-80,22.5,50,70'),\n",
    "    async=True) "
   ]
  },
  {
   "cell_type": "code",
   "execution_count": 60,
   "metadata": {
    "collapsed": false
   },
   "outputs": [
    {
     "name": "stdout",
     "output_type": "stream",
     "text": [
      "ProcessSucceeded\n"
     ]
    }
   ],
   "source": [
    "monitorExecution(training, sleepSecs=5)\n",
    "print training.getStatus()"
   ]
  },
  {
   "cell_type": "code",
   "execution_count": 61,
   "metadata": {
    "collapsed": false
   },
   "outputs": [
    {
     "name": "stdout",
     "output_type": "stream",
     "text": [
      "http://localhost:8090/wpsoutputs/flyingpigeon/output_pca-0573438a-4203-11e6-9e3e-417988cdf122.dat\n",
      "http://localhost:8090/wpsoutputs/flyingpigeon/Routput_graphic-0573438a-4203-11e6-9e3e-417988cdf122.pdf\n",
      "http://localhost:8090/wpsoutputs/flyingpigeon/output_classification-0573438a-4203-11e6-9e3e-417988cdf122.Rdat\n",
      "http://localhost:8090/wpsoutputs/flyingpigeon/output_netcdf-0573438a-4203-11e6-9e3e-417988cdf122.nc\n"
     ]
    }
   ],
   "source": [
    "for o in training.processOutputs:\n",
    "    print o.reference "
   ]
  },
  {
   "cell_type": "code",
   "execution_count": 62,
   "metadata": {
    "collapsed": true
   },
   "outputs": [],
   "source": [
    "# Next step is to perform a projection with the trained output \n",
    "p = wps.describeprocess(identifier='weatherregimes_projection')"
   ]
  },
  {
   "cell_type": "code",
   "execution_count": 63,
   "metadata": {
    "collapsed": false
   },
   "outputs": [
    {
     "name": "stdout",
     "output_type": "stream",
     "text": [
      " identifier=resource, title=Resource, abstract=NetCDF File, data type=ComplexData\n",
      " Supported Value: mimeType=application/x-netcdf, encoding=None, schema=None\n",
      " Default Value: mimeType=application/x-netcdf, encoding=None, schema=None \n",
      " minOccurs=1, maxOccurs=1000\n",
      " identifier=Rdat, title=R - workspace, abstract=R workspace as outputed from weatherregieme reference process, data type=//www.w3.org/TR/xmlschema-2/#string\n",
      " Any value allowed\n",
      " Default Value: None \n",
      " minOccurs=1, maxOccurs=1\n",
      " identifier=dat, title=R - datafile, abstract=R datafile as outputed from weatherregieme reference process, data type=//www.w3.org/TR/xmlschema-2/#string\n",
      " Any value allowed\n",
      " Default Value: None \n",
      " minOccurs=1, maxOccurs=1\n",
      " identifier=netCDF, title=netCDF reference, abstract=netCDF file as outputed from weatherregieme reference process, data type=//www.w3.org/TR/xmlschema-2/#string\n",
      " Any value allowed\n",
      " Default Value: None \n",
      " minOccurs=1, maxOccurs=1\n",
      " identifier=season, title=Time region, abstract=Select the months to define the time region (all == whole year will be analysed), data type=//www.w3.org/TR/xmlschema-2/#string\n",
      " Allowed Value: JJA\n",
      " Allowed Value: SON\n",
      " Allowed Value: DJF\n",
      " Allowed Value: MAM\n",
      " Allowed Value: all\n",
      " Allowed Value: JJAS\n",
      " Allowed Value: DJFM\n",
      " Allowed Value: MAMJ\n",
      " Allowed Value: FMA\n",
      " Allowed Value: SOND\n",
      " Allowed Value: SONDJF\n",
      " Allowed Value: MAMJJA\n",
      " Default Value: DJF \n",
      " minOccurs=0, maxOccurs=1\n",
      " identifier=period, title=Period for weatherregime calculation, abstract=Period for analysing the dataset, data type=//www.w3.org/TR/xmlschema-2/#string\n",
      " Any value allowed\n",
      " Default Value: 19700101-20101231 \n",
      " minOccurs=0, maxOccurs=1\n",
      " identifier=anualcycle, title=Period for anualcycle calculation, abstract=Period for anual cycle calculation, data type=//www.w3.org/TR/xmlschema-2/#string\n",
      " Any value allowed\n",
      " Default Value: 19700101-19991231 \n",
      " minOccurs=0, maxOccurs=1\n"
     ]
    }
   ],
   "source": [
    "for input in p.dataInputs:\n",
    "    printInputOutput(input)"
   ]
  },
  {
   "cell_type": "code",
   "execution_count": 64,
   "metadata": {
    "collapsed": false
   },
   "outputs": [
    {
     "data": {
      "text/plain": [
       "['file:///home/nils/.conda/envs/birdhouse/var/lib/cache/pywps/esgf1.dkrz.de/thredds/fileServer/cmip5/cmip5/output1/MPI-M/MPI-ESM-LR/historical/day/atmos/day/r1i1p1/v20111006/psl/psl_day_MPI-ESM-LR_historical_r1i1p1_19600101-19691231.nc',\n",
       " 'file:///home/nils/.conda/envs/birdhouse/var/lib/cache/pywps/esgf1.dkrz.de/thredds/fileServer/cmip5/cmip5/output1/MPI-M/MPI-ESM-LR/historical/day/atmos/day/r1i1p1/v20111006/psl/psl_day_MPI-ESM-LR_historical_r1i1p1_19900101-19991231.nc',\n",
       " 'file:///home/nils/.conda/envs/birdhouse/var/lib/cache/pywps/esgf1.dkrz.de/thredds/fileServer/cmip5/cmip5/output1/MPI-M/MPI-ESM-LR/historical/day/atmos/day/r1i1p1/v20111006/psl/psl_day_MPI-ESM-LR_historical_r1i1p1_19700101-19791231.nc',\n",
       " 'file:///home/nils/.conda/envs/birdhouse/var/lib/cache/pywps/esgf1.dkrz.de/thredds/fileServer/cmip5/cmip5/output1/MPI-M/MPI-ESM-LR/historical/day/atmos/day/r1i1p1/v20111006/psl/psl_day_MPI-ESM-LR_historical_r1i1p1_19800101-19891231.nc',\n",
       " 'file:///home/nils/.conda/envs/birdhouse/var/lib/cache/pywps/esgf1.dkrz.de/thredds/fileServer/cmip5/cmip5/output1/MPI-M/MPI-ESM-LR/historical/day/atmos/day/r1i1p1/v20111006/psl/psl_day_MPI-ESM-LR_historical_r1i1p1_20000101-20051231.nc']"
      ]
     },
     "execution_count": 64,
     "metadata": {},
     "output_type": "execute_result"
    }
   ],
   "source": [
    "# Define the places of your data: \n",
    "from os import listdir\n",
    "path = '/home/nils/.conda/envs/birdhouse/var/lib/cache/pywps/esgf1.dkrz.de/thredds/fileServer/cmip5/cmip5/output1/MPI-M/MPI-ESM-LR/historical/day/atmos/day/r1i1p1/v20111006/psl/'\n",
    "\n",
    "files = ['file://' + path + f for f in listdir(path)]\n",
    "files"
   ]
  },
  {
   "cell_type": "code",
   "execution_count": 68,
   "metadata": {
    "collapsed": false
   },
   "outputs": [],
   "source": [
    "projection = wps.execute(\n",
    "    identifier=\"weatherregimes_projection\", #indices_clipping\",\n",
    "    inputs=[\n",
    "       (\"resource\",files[0]),\n",
    "       (\"resource\",files[1]),\n",
    "       (\"resource\",files[2]),\n",
    "       (\"resource\",files[3]),\n",
    "       (\"resource\",files[4]),\n",
    "       (\"season\",'DJF'),\n",
    "       (\"dat\", training.processOutputs[0].reference),\n",
    "       (\"Rdat\", training.processOutputs[2].reference),\n",
    "       (\"netCDF\",training.processOutputs[3].reference)\n",
    "           ],\n",
    "    async=True)"
   ]
  },
  {
   "cell_type": "code",
   "execution_count": 69,
   "metadata": {
    "collapsed": false
   },
   "outputs": [
    {
     "name": "stdout",
     "output_type": "stream",
     "text": [
      "ProcessSucceeded\n",
      "http://localhost:8090/wpsoutputs/flyingpigeon/output_pca-a19a0e84-4207-11e6-9e3e-417988cdf122.dat\n",
      "http://localhost:8090/wpsoutputs/flyingpigeon/Routput_graphic-a19a0e84-4207-11e6-9e3e-417988cdf122.pdf\n",
      "http://localhost:8090/wpsoutputs/flyingpigeon/output_classification-a19a0e84-4207-11e6-9e3e-417988cdf122.Rdat\n",
      "http://localhost:8090/wpsoutputs/flyingpigeon/output_netcdf-a19a0e84-4207-11e6-9e3e-417988cdf122.nc\n"
     ]
    }
   ],
   "source": [
    "monitorExecution(projection, sleepSecs=5)\n",
    "print projection.getStatus()\n",
    "\n",
    "for o in projection.processOutputs:\n",
    "    print o.reference"
   ]
  },
  {
   "cell_type": "code",
   "execution_count": null,
   "metadata": {
    "collapsed": true
   },
   "outputs": [],
   "source": []
  }
 ],
 "metadata": {
  "kernelspec": {
   "display_name": "Python 2",
   "language": "python",
   "name": "python2"
  },
  "language_info": {
   "codemirror_mode": {
    "name": "ipython",
    "version": 2
   },
   "file_extension": ".py",
   "mimetype": "text/x-python",
   "name": "python",
   "nbconvert_exporter": "python",
   "pygments_lexer": "ipython2",
   "version": "2.7.11"
  }
 },
 "nbformat": 4,
 "nbformat_minor": 0
}
